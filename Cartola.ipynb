{
  "nbformat": 4,
  "nbformat_minor": 0,
  "metadata": {
    "colab": {
      "name": "Cartola.ipynb",
      "provenance": [],
      "collapsed_sections": []
    },
    "kernelspec": {
      "name": "python3",
      "display_name": "Python 3"
    },
    "language_info": {
      "name": "python"
    }
  },
  "cells": [
    {
      "cell_type": "code",
      "metadata": {
        "id": "KBMOYQRYmGRc"
      },
      "source": [
        "import re\n",
        "import requests \n",
        "from bs4 import BeautifulSoup\n",
        "import pandas as pd"
      ],
      "execution_count": 1,
      "outputs": []
    },
    {
      "cell_type": "code",
      "metadata": {
        "id": "XmqYl-HPQJqv"
      },
      "source": [
        "URL = 'https://github.com/henriquepgomide/caRtola/tree/master/data/2019'\n",
        "html = requests.get(URL)\n",
        "soup = BeautifulSoup(html.text, 'lxml')\n",
        "soup"
      ],
      "execution_count": null,
      "outputs": []
    },
    {
      "cell_type": "code",
      "metadata": {
        "colab": {
          "base_uri": "https://localhost:8080/"
        },
        "id": "z1xPrrBjmnu2",
        "outputId": "7e58c890-3c49-43be-e4ae-e01e8f79566b"
      },
      "source": [
        "result = []\n",
        "for tag in soup.find_all('a', href=True):\n",
        "    result.append(tag)\n",
        "result[70:90:2]\n",
        "\n",
        "regex = 'rodada-([0-9]|[0-9][0-9])\\.csv'\n",
        "\n",
        "dict_of_files = {}\n",
        "\n",
        "for tag in soup.find_all('a', attrs={'href': re.compile(regex)}):\n",
        "    href_str = tag.get('href')\n",
        "    file_name = re.sub('/henriquepgomide/caRtola/blob/master/data/2019/', '', href_str)\n",
        "    file_url = re.sub('/henriquepgomide/caRtola/blob/master/data/2019/',\n",
        "                      'https://raw.githubusercontent.com/henriquepgomide/caRtola/master/data/2019/', href_str)\n",
        "    dict_of_files[file_name] = file_url\n",
        "\n",
        "# Ler os dataframes dos arquivos\n",
        "list_of_dataframes = []\n",
        "for key, item in dict_of_files.items():\n",
        "    df = pd.read_csv(item)\n",
        "    df['rodada'] = key\n",
        "    list_of_dataframes.append(df)\n",
        "\n",
        "# Combinar lista de DataFrames criados\n",
        "cartola = pd.concat(list_of_dataframes)\n",
        "cartola.shape\n",
        "\n",
        "# Ver informações do dataframe\n",
        "cartola.info()\n",
        "\n",
        "\n",
        "\n"
      ],
      "execution_count": 7,
      "outputs": [
        {
          "output_type": "stream",
          "text": [
            "<class 'pandas.core.frame.DataFrame'>\n",
            "Int64Index: 30581 entries, 0 to 774\n",
            "Data columns (total 34 columns):\n",
            " #   Column                      Non-Null Count  Dtype  \n",
            "---  ------                      --------------  -----  \n",
            " 0   Unnamed: 0                  30581 non-null  int64  \n",
            " 1   atletas.nome                30581 non-null  object \n",
            " 2   atletas.slug                30581 non-null  object \n",
            " 3   atletas.apelido             30581 non-null  object \n",
            " 4   atletas.foto                29741 non-null  object \n",
            " 5   atletas.atleta_id           30581 non-null  int64  \n",
            " 6   atletas.rodada_id           30581 non-null  int64  \n",
            " 7   atletas.clube_id            30581 non-null  int64  \n",
            " 8   atletas.posicao_id          30581 non-null  object \n",
            " 9   atletas.status_id           30581 non-null  object \n",
            " 10  atletas.pontos_num          30581 non-null  float64\n",
            " 11  atletas.preco_num           30581 non-null  float64\n",
            " 12  atletas.variacao_num        30581 non-null  float64\n",
            " 13  atletas.media_num           30581 non-null  float64\n",
            " 14  atletas.clube.id.full.name  30581 non-null  object \n",
            " 15  FS                          17682 non-null  float64\n",
            " 16  RB                          16653 non-null  float64\n",
            " 17  PE                          18731 non-null  float64\n",
            " 18  FC                          17442 non-null  float64\n",
            " 19  G                           6861 non-null   float64\n",
            " 20  FF                          13914 non-null  float64\n",
            " 21  FT                          2871 non-null   float64\n",
            " 22  FD                          12005 non-null  float64\n",
            " 23  DD                          1507 non-null   float64\n",
            " 24  GS                          1527 non-null   float64\n",
            " 25  SG                          5927 non-null   float64\n",
            " 26  A                           5941 non-null   float64\n",
            " 27  CA                          12232 non-null  float64\n",
            " 28  I                           6677 non-null   float64\n",
            " 29  CV                          1519 non-null   float64\n",
            " 30  PP                          528 non-null    float64\n",
            " 31  GC                          378 non-null    float64\n",
            " 32  DP                          301 non-null    float64\n",
            " 33  rodada                      30581 non-null  object \n",
            "dtypes: float64(22), int64(4), object(8)\n",
            "memory usage: 8.2+ MB\n"
          ],
          "name": "stdout"
        }
      ]
    },
    {
      "cell_type": "code",
      "metadata": {
        "id": "eT9cauI8QinX"
      },
      "source": [
        ""
      ],
      "execution_count": null,
      "outputs": []
    }
  ]
}